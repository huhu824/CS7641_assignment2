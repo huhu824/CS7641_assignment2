{
 "cells": [
  {
   "cell_type": "code",
   "execution_count": 1,
   "metadata": {},
   "outputs": [],
   "source": [
    "# four-peaks problems \n",
    "import six\n",
    "import sys\n",
    "sys.modules['sklearn.externals.six'] = six\n",
    "\n",
    "import mlrose\n",
    "import numpy as np\n",
    "import os\n",
    "import pandas as pd\n",
    "import time\n",
    "\n",
    "import itertools\n",
    "\n",
    "SEED = 42"
   ]
  },
  {
   "cell_type": "code",
   "execution_count": 24,
   "metadata": {},
   "outputs": [],
   "source": [
    "import matplotlib.pyplot as plt"
   ]
  },
  {
   "cell_type": "code",
   "execution_count": 22,
   "metadata": {},
   "outputs": [],
   "source": [
    "import timeit\n"
   ]
  },
  {
   "cell_type": "code",
   "execution_count": 59,
   "metadata": {
    "scrolled": true
   },
   "outputs": [],
   "source": [
    "import dataframe_image as dfi"
   ]
  },
  {
   "cell_type": "code",
   "execution_count": 2,
   "metadata": {
    "scrolled": true
   },
   "outputs": [],
   "source": [
    "import mlrose_hiive"
   ]
  },
  {
   "cell_type": "code",
   "execution_count": 3,
   "metadata": {},
   "outputs": [],
   "source": [
    "GA_hyperparameters = [\n",
    "    [10, 50, 250, 1250],\n",
    "    [50, 100, 200, 300, 500],\n",
    "    [0.1, 0.2, 0.3, 0.4, 0.5] \n",
    "]"
   ]
  },
  {
   "cell_type": "code",
   "execution_count": 4,
   "metadata": {},
   "outputs": [],
   "source": [
    "SA_hyperparameters = [\n",
    "   [0.1, 0.2, 1, 5, 25, 125],\n",
    "   [0.025, 0.05, 0.1, 0.2, 0.4, 0.8],\n",
    "   [0.0001,0.001, 0.01, 0.1]\n",
    "]\n"
   ]
  },
  {
   "cell_type": "code",
   "execution_count": 5,
   "metadata": {},
   "outputs": [],
   "source": [
    "RHC_hyperparameters = [0, 10, 20, 30, 40, 50, 60, 70, 80, 90, 100]"
   ]
  },
  {
   "cell_type": "code",
   "execution_count": 6,
   "metadata": {},
   "outputs": [],
   "source": [
    "MIMIC_hyperparameters = [0.1, 0.3, 0.5, 0.7, 0.9]"
   ]
  },
  {
   "cell_type": "markdown",
   "metadata": {},
   "source": [
    "# Four Peaks"
   ]
  },
  {
   "cell_type": "code",
   "execution_count": 7,
   "metadata": {},
   "outputs": [],
   "source": [
    "# Four Peaks Problem: with length of 40, there are two local maxima of 40, and two optima of 75\n",
    "fitness = mlrose.FourPeaks(t_pct=0.1)\n",
    "problem = mlrose.DiscreteOpt(length=40, fitness_fn=fitness, maximize=True, max_val=2)\n",
    "perfect_score = 75"
   ]
  },
  {
   "cell_type": "markdown",
   "metadata": {},
   "source": [
    "## fourpeaks GA\n"
   ]
  },
  {
   "cell_type": "code",
   "execution_count": 8,
   "metadata": {},
   "outputs": [
    {
     "name": "stdout",
     "output_type": "stream",
     "text": [
      "Best parameters for FourPeaks_GA = (250, 500, 0.1)\n"
     ]
    }
   ],
   "source": [
    "# build problems\n",
    "EXPERIMENT_NAME = \"FourPeaks_GA\"\n",
    "best_param_ga = None\n",
    "best_ga = None\n",
    "\n",
    "for param in itertools.product(*GA_hyperparameters):\n",
    "    max_attempts, pop_size, mutation_prob = param\n",
    "#     print(max_attempts, pop_size, mutation_prob)\n",
    "    best_state, best_fitness, fitness_curve = mlrose.genetic_alg(problem,pop_size = pop_size,\n",
    "                                                  mutation_prob = mutation_prob,\n",
    "                                                  max_attempts=max_attempts,\n",
    "                                                  max_iters=500,\n",
    "                                                  curve=True,\n",
    "                                                  random_state=SEED)\n",
    "#     run_time = time.perf_counter() - start_time\n",
    "#     stopped_at = curve.size\n",
    "#     results_list.append((EXPERIMENT_NAME, attempts, iterations, pop_size, mutation_prob,\n",
    "#                          run_time, best_fitness, stopped_at))  \n",
    "    if not best_ga:\n",
    "        best_param_ga = param\n",
    "        best_ga = best_fitness\n",
    "    elif best_fitness > best_ga:\n",
    "        best_param_ga = param\n",
    "        best_ga = best_fitness\n",
    "print(\"Best param {} = {}\".format(EXPERIMENT_NAME, str(best_param_ga)))"
   ]
  },
  {
   "cell_type": "markdown",
   "metadata": {},
   "source": [
    "## Four_peaks SA"
   ]
  },
  {
   "cell_type": "code",
   "execution_count": 9,
   "metadata": {},
   "outputs": [
    {
     "name": "stdout",
     "output_type": "stream",
     "text": [
      "Best parameters for FourPeaks_SA = (0.1, 0.025, 0.0001)\n"
     ]
    }
   ],
   "source": [
    "EXPERIMENT_NAME = \"FourPeaks_SA\"\n",
    "best_param_sa = None\n",
    "best_sa = None\n",
    "for param in itertools.product(*SA_hyperparameters):\n",
    "#     print(param)\n",
    "    init_temp, decay, min_temp  = param\n",
    "    decay = mlrose_hiive.GeomDecay(init_temp = init_temp, decay = decay, min_temp = min_temp)\n",
    "\n",
    "    best_state, best_fitness, fitness_curve = mlrose.simulated_annealing(\n",
    "                                                    problem, \n",
    "                                                    max_attempts=500, \n",
    "                                                    max_iters=300, \n",
    "                                                    curve=True, \n",
    "                                                    random_state=SEED,\n",
    "                                                    schedule=decay)\n",
    "\n",
    "    if not best_sa:\n",
    "        best_param_sa = param\n",
    "        best_sa = best_fitness\n",
    "    elif best_fitness > best_sa:\n",
    "        best_param_sa = param\n",
    "        best_sa = best_fitness\n",
    "print(\"Best param {} = {}\".format(EXPERIMENT_NAME, str(best_param_sa)))"
   ]
  },
  {
   "cell_type": "markdown",
   "metadata": {},
   "source": [
    "## Four Peaks RHC"
   ]
  },
  {
   "cell_type": "code",
   "execution_count": 11,
   "metadata": {},
   "outputs": [
    {
     "name": "stdout",
     "output_type": "stream",
     "text": [
      "Best RHC parameters for FourPeaks_RHC = 60\n"
     ]
    }
   ],
   "source": [
    "EXPERIMENT_NAME = \"FourPeaks_RHC\"\n",
    "\n",
    "best_restart_param = None\n",
    "best_restart_fitness_value = None\n",
    "\n",
    "for param in RHC_hyperparameters:\n",
    "    best_state, best_fitness, fitness_curve = mlrose.random_hill_climb(problem, \n",
    "                                                            max_attempts = 500, \n",
    "                                                            max_iters=300, \n",
    "                                                            curve=True, \n",
    "                                                            random_state=SEED,\n",
    "                                                            restarts=param)\n",
    "    if not best_restart_fitness_value:\n",
    "        best_restart_param = param\n",
    "        best_restart_fitness_value = best_fitness\n",
    "    elif best_fitness > best_restart_fitness_value:\n",
    "        best_restart_param = param\n",
    "        best_restart_fitness_value = best_fitness\n",
    "print(\"Best param {} = {}\".format(EXPERIMENT_NAME, str(best_restart_param)))   "
   ]
  },
  {
   "cell_type": "markdown",
   "metadata": {},
   "source": [
    "## Four Peaks MIMIC"
   ]
  },
  {
   "cell_type": "code",
   "execution_count": 13,
   "metadata": {},
   "outputs": [
    {
     "name": "stdout",
     "output_type": "stream",
     "text": [
      "0.1\n",
      "0.3\n",
      "0.5\n",
      "0.7\n",
      "0.9\n"
     ]
    },
    {
     "ename": "NameError",
     "evalue": "name 'best_param' is not defined",
     "output_type": "error",
     "traceback": [
      "\u001b[0;31m---------------------------------------------------------------------------\u001b[0m",
      "\u001b[0;31mNameError\u001b[0m                                 Traceback (most recent call last)",
      "\u001b[0;32m<ipython-input-13-c6302b828379>\u001b[0m in \u001b[0;36m<module>\u001b[0;34m\u001b[0m\n\u001b[1;32m     19\u001b[0m         \u001b[0mbest_param_mimic\u001b[0m  \u001b[0;34m=\u001b[0m \u001b[0mparam\u001b[0m\u001b[0;34m\u001b[0m\u001b[0;34m\u001b[0m\u001b[0m\n\u001b[1;32m     20\u001b[0m         \u001b[0mbest_fitness_mimic\u001b[0m \u001b[0;34m=\u001b[0m \u001b[0mbest_fitness\u001b[0m\u001b[0;34m\u001b[0m\u001b[0;34m\u001b[0m\u001b[0m\n\u001b[0;32m---> 21\u001b[0;31m \u001b[0mprint\u001b[0m\u001b[0;34m(\u001b[0m\u001b[0;34m\"Best parameters for {} = {}\"\u001b[0m\u001b[0;34m.\u001b[0m\u001b[0mformat\u001b[0m\u001b[0;34m(\u001b[0m\u001b[0mEXPERIMENT_NAME\u001b[0m\u001b[0;34m,\u001b[0m \u001b[0mstr\u001b[0m\u001b[0;34m(\u001b[0m\u001b[0mbest_param\u001b[0m\u001b[0;34m)\u001b[0m\u001b[0;34m)\u001b[0m\u001b[0;34m)\u001b[0m\u001b[0;34m\u001b[0m\u001b[0;34m\u001b[0m\u001b[0m\n\u001b[0m",
      "\u001b[0;31mNameError\u001b[0m: name 'best_param' is not defined"
     ]
    }
   ],
   "source": [
    "EXPERIMENT_NAME = \"FourPeaks_MIMIC\"\n",
    "\n",
    "best_param_mimic = None\n",
    "best_fitness_mimic = None\n",
    "\n",
    "for param in MIMIC_hyperparameters:\n",
    "    print(param)\n",
    "    best_state, best_fitness, fitness_curve = mlrose.mimic(\n",
    "                                                        problem,\n",
    "                                                        keep_pct = param,\n",
    "                                                        max_attempts = 100, \n",
    "                                                        max_iters = 100,  \n",
    "                                                        curve = True, \n",
    "                                                        random_state = SEED)\n",
    "    if not best_fitness_mimic:\n",
    "        best_param_mimic  = param\n",
    "        best_fitness_mimic = best_fitness\n",
    "    elif best_fitness > best_fitness_mimic:\n",
    "        best_param_mimic  = param\n",
    "        best_fitness_mimic = best_fitness\n",
    "print(\"Best param {} = {}\".format(EXPERIMENT_NAME, str(best_param_mimic)))"
   ]
  },
  {
   "cell_type": "code",
   "execution_count": 14,
   "metadata": {},
   "outputs": [
    {
     "name": "stdout",
     "output_type": "stream",
     "text": [
      "Best parameters for FourPeaks_MIMIC = 0.3\n"
     ]
    }
   ],
   "source": [
    "print(\"Best param {} = {}\".format(EXPERIMENT_NAME, str(best_param_mimic)))"
   ]
  },
  {
   "cell_type": "code",
   "execution_count": 63,
   "metadata": {},
   "outputs": [
    {
     "data": {
      "text/plain": [
       "[]"
      ]
     },
     "execution_count": 63,
     "metadata": {},
     "output_type": "execute_result"
    },
    {
     "data": {
      "image/png": "[encoded data removed]",
      "text/plain": [
       "<Figure size 432x288 with 1 Axes>"
      ]
     },
     "metadata": {
      "needs_background": "light"
     },
     "output_type": "display_data"
    }
   ],
   "source": [
    "# Four peaks figures\n",
    "# best params:\n",
    "# Best parameters for FourPeaks_GA = (250, 500, 0.1)\n",
    "# Best parameters for FourPeaks_SA = (0.1, 0.025, 0.0001)\n",
    "# Best RHC parameters for FourPeaks_RHC = 60\n",
    "# Best parameters for FourPeaks_MIMIC = 0.3\n",
    "\n",
    "# GA\n",
    "# print(\"Running Genetic Algorithm Experiment\")\n",
    "ga_best_state, ga_best_fitness, ga = mlrose.genetic_alg(problem, max_attempts=250, pop_size=500, mutation_prob=0.1,max_iters=500,curve=True, random_state=SEED)\n",
    "ga_time = timeit.timeit(lambda: mlrose.genetic_alg(problem, max_attempts=250, pop_size=500, mutation_prob=0.1,max_iters=500, curve=True, random_state=SEED), number=3)\n",
    "\n",
    "# SA\n",
    "# print(\"Running Simulated Annealing Experiment\")\n",
    "schedule = mlrose_hiive.GeomDecay(init_temp = 0.1, decay = 0.025, min_temp = 0.0001)\n",
    "sa_best_state, sa_best_fitness, sa = mlrose.simulated_annealing(problem, schedule=schedule, max_attempts=500, max_iters=300, curve=True, random_state=42)\n",
    "sa_time = timeit.timeit(lambda: mlrose.simulated_annealing(problem, schedule=schedule, max_attempts=500, max_iters=300, curve=True, random_state=SEED), number=3)\n",
    "\n",
    "# RHC\n",
    "# print(\"Running Random Hill Climb Experiment\")\n",
    "rhc_best_state, rhc_best_fitness, rhc = mlrose.random_hill_climb(problem, \n",
    "                                                            max_attempts = 100, \n",
    "                                                            max_iters=300, \n",
    "                                                            curve=True, \n",
    "                                                            random_state=SEED,\n",
    "                                                            restarts=60)\n",
    "rhc_time = timeit.timeit(lambda: mlrose.random_hill_climb(problem, \n",
    "                                                            max_attempts = 100, \n",
    "                                                            max_iters=300, \n",
    "                                                            curve=True, \n",
    "                                                            random_state=SEED,\n",
    "                                                            restarts=60), number=3)\n",
    "\n",
    "\n",
    "# MIMIC\n",
    "# print(\"Running MIMIC Algorithm Experiment\")\n",
    "mimic_best_state, mimic_best_fitness, mimic = mlrose.mimic(\n",
    "                                                        problem,\n",
    "                                                        keep_pct = 0.3,\n",
    "                                                        max_attempts = 100, \n",
    "                                                        max_iters = 100,  \n",
    "                                                        curve = True, \n",
    "                                                        random_state = SEED)\n",
    "mimic_time = timeit.timeit(lambda: mlrose.mimic(problem,\n",
    "                                                        keep_pct = 0.3,\n",
    "                                                        max_attempts = 100, \n",
    "                                                        max_iters = 300,  \n",
    "                                                        curve = True, \n",
    "                                                        random_state = SEED), number=3)\n",
    "\n",
    "plt.plot(sa, label='SA')\n",
    "plt.plot(rhc[:500], label='RHC')\n",
    "plt.plot(mimic, label='MIMIC')\n",
    "plt.plot(ga, label='GA')\n",
    "plt.xlabel('Iteration')\n",
    "plt.ylabel('Fitness')\n",
    "plt.legend(loc=\"lower right\")\n",
    "plt.title('Four Peaks Problem Optimization')\n",
    "plt.plot()\n",
    "\n"
   ]
  },
  {
   "cell_type": "code",
   "execution_count": 66,
   "metadata": {},
   "outputs": [
    {
     "name": "stdout",
     "output_type": "stream",
     "text": [
      "Running time of Four Peaks\n",
      "  Algorithm  Time (s)\n",
      "0       RHC   0.06719\n",
      "1        SA   0.00510\n",
      "2        GA   7.92063\n",
      "3     MIMIC   2.46730\n"
     ]
    }
   ],
   "source": [
    "# time \n",
    "print('Running time of Four Peaks')\n",
    "data = [('RHC', round(rhc_time/3, 5)),\n",
    "        ('SA', round(sa_time/3, 5)),\n",
    "        ('GA', round(ga_time/3, 5)),\n",
    "        ('MIMIC', round(mimic_time/3, 5))]\n",
    "\n",
    "df = pd.DataFrame(data, columns=['Algorithm', 'Time (s)'])\n",
    "print(df)"
   ]
  },
  {
   "cell_type": "markdown",
   "metadata": {},
   "source": [
    "# Eight Queens"
   ]
  },
  {
   "cell_type": "code",
   "execution_count": 15,
   "metadata": {},
   "outputs": [],
   "source": [
    "fitness = mlrose.Queens()\n",
    "problem = mlrose.DiscreteOpt(length = 8, fitness_fn = fitness, maximize = False, max_val = 8)"
   ]
  },
  {
   "cell_type": "markdown",
   "metadata": {},
   "source": [
    "## Eight Queens GA"
   ]
  },
  {
   "cell_type": "code",
   "execution_count": 16,
   "metadata": {},
   "outputs": [
    {
     "name": "stdout",
     "output_type": "stream",
     "text": [
      "Best parameters for EightQueens_GA = (10, 50, 0.1)\n"
     ]
    }
   ],
   "source": [
    "EXPERIMENT_NAME = \"EightQueens_GA\"\n",
    "\n",
    "best_param_ga = None\n",
    "best_ga = None\n",
    "\n",
    "for param in itertools.product(*GA_hyperparameters):\n",
    "    max_attempts, pop_size, mutation_prob = param\n",
    "    best_state, best_fitness, fitness_curve = mlrose.genetic_alg(problem,pop_size = pop_size,\n",
    "                                                  mutation_prob = mutation_prob,\n",
    "                                                  max_attempts=max_attempts,\n",
    "                                                  max_iters=500,\n",
    "                                                  curve=True,\n",
    "                                                  random_state=SEED)\n",
    "    if not best_ga:\n",
    "        best_param_ga = param\n",
    "        best_ga = best_fitness\n",
    "    elif best_fitness > best_ga:\n",
    "        best_param_ga = param\n",
    "        best_ga = best_fitness\n",
    "print(\"Best param {} = {}\".format(EXPERIMENT_NAME, str(best_param_ga)))\n"
   ]
  },
  {
   "cell_type": "markdown",
   "metadata": {},
   "source": [
    "## Eight Queens SA"
   ]
  },
  {
   "cell_type": "code",
   "execution_count": 18,
   "metadata": {},
   "outputs": [
    {
     "name": "stdout",
     "output_type": "stream",
     "text": [
      "Best parameters for EightQueens_SA = (1, 0.8, 0.0001)\n"
     ]
    }
   ],
   "source": [
    "EXPERIMENT_NAME = \"EightQueens_SA\"\n",
    "\n",
    "best_param_sa = None\n",
    "best_sa = None\n",
    "\n",
    "for param in itertools.product(*SA_hyperparameters):\n",
    "\n",
    "    init_temp, decay, min_temp  = param\n",
    "    decay = mlrose_hiive.GeomDecay(init_temp = init_temp, decay = decay, min_temp = min_temp)\n",
    "\n",
    "    best_state, best_fitness, fitness_curve = mlrose.simulated_annealing(\n",
    "                                                    problem, \n",
    "                                                    max_attempts=500, \n",
    "                                                    max_iters=300, \n",
    "                                                    curve=True, \n",
    "                                                    random_state=SEED,\n",
    "                                                    schedule=decay)\n",
    "    if not best_sa:\n",
    "        best_param_sa = param\n",
    "        best_sa = best_fitness\n",
    "    elif best_fitness > best_sa:\n",
    "        best_param_sa = param\n",
    "        best_sa = best_fitness\n",
    "print(\"Best param {} = {}\".format(EXPERIMENT_NAME, str(best_param_sa)))"
   ]
  },
  {
   "cell_type": "markdown",
   "metadata": {},
   "source": [
    "## Eight Queens RHC"
   ]
  },
  {
   "cell_type": "code",
   "execution_count": 20,
   "metadata": {},
   "outputs": [
    {
     "name": "stdout",
     "output_type": "stream",
     "text": [
      "Best RHC parameters for EightQueens_RHC = 0\n"
     ]
    }
   ],
   "source": [
    "EXPERIMENT_NAME = \"EightQueens_RHC\"\n",
    "\n",
    "best_restart_param = None\n",
    "best_restart_fitness_value = None\n",
    "\n",
    "for param in RHC_hyperparameters:\n",
    "    best_state, best_fitness, fitness_curve = mlrose.random_hill_climb(problem, \n",
    "                                                            max_attempts = 500, \n",
    "                                                            max_iters=300, \n",
    "                                                            curve=True, \n",
    "                                                            random_state=SEED,\n",
    "                                                            restarts=param)\n",
    "    if not best_restart_fitness_value:\n",
    "        best_restart_param = param\n",
    "        best_restart_fitness_value = best_fitness\n",
    "    elif best_fitness > best_restart_fitness_value:\n",
    "        best_restart_param = param\n",
    "        best_restart_fitness_value = best_fitness\n",
    "print(\"Best param {} = {}\".format(EXPERIMENT_NAME, str(best_restart_param)))  "
   ]
  },
  {
   "cell_type": "markdown",
   "metadata": {},
   "source": [
    "## Eight Queens MIMIC"
   ]
  },
  {
   "cell_type": "code",
   "execution_count": 32,
   "metadata": {},
   "outputs": [
    {
     "name": "stdout",
     "output_type": "stream",
     "text": [
      "0.1\n",
      "0.3\n",
      "0.5\n",
      "0.7\n",
      "0.9\n",
      "Best parameters for EightQueens_MIMIC = 0.1\n"
     ]
    }
   ],
   "source": [
    "EXPERIMENT_NAME = \"EightQueens_MIMIC\"\n",
    "\n",
    "best_param_mimic = None\n",
    "best_fitness_mimic = None\n",
    "\n",
    "for param in MIMIC_hyperparameters:\n",
    "    print(param)\n",
    "    best_state, best_fitness, fitness_curve = mlrose.mimic(\n",
    "                                                        problem,\n",
    "                                                        keep_pct = param,\n",
    "                                                        max_attempts = 100, \n",
    "                                                        max_iters = 100,  \n",
    "                                                        curve = True, \n",
    "                                                        random_state = SEED)\n",
    "    if not best_fitness_mimic:\n",
    "        best_param_mimic  = param\n",
    "        best_fitness_mimic = best_fitness\n",
    "    elif best_fitness > best_fitness_mimic:\n",
    "        best_param_mimic  = param\n",
    "        best_fitness_mimic = best_fitness\n",
    "print(\"Best param {} = {}\".format(EXPERIMENT_NAME, str(best_param_mimic)))"
   ]
  },
  {
   "cell_type": "code",
   "execution_count": 67,
   "metadata": {
    "scrolled": true
   },
   "outputs": [
    {
     "data": {
      "text/plain": [
       "[]"
      ]
     },
     "execution_count": 67,
     "metadata": {},
     "output_type": "execute_result"
    },
    {
     "data": {
      "image/png": "[encoded data removed]",
      "text/plain": [
       "<Figure size 432x288 with 1 Axes>"
      ]
     },
     "metadata": {
      "needs_background": "light"
     },
     "output_type": "display_data"
    }
   ],
   "source": [
    "# eight queens figures\n",
    "# best params:\n",
    "# Best parameters for EightQueens_GA = (10, 50, 0.1)\n",
    "# Best parameters for EightQueens_SA = (1, 0.8, 0.0001)\n",
    "# Best RHC parameters for EightQueens_RHC = 0\n",
    "# Best parameters for EightQueens_MIMIC = 0.1\n",
    "\n",
    "# GA\n",
    "# print(\"Running Genetic Algorithm Experiment\")\n",
    "ga_best_state, ga_best_fitness, ga = mlrose.genetic_alg(problem, max_attempts=10, pop_size=50, mutation_prob=0.1,max_iters=500,curve=True, random_state=SEED)\n",
    "ga_time = timeit.timeit(lambda: mlrose.genetic_alg(problem, max_attempts=10, pop_size=50, mutation_prob=0.1,max_iters=500, curve=True, random_state=SEED), number=3)\n",
    "\n",
    "# SA\n",
    "# print(\"Running Simulated Annealing Experiment\")\n",
    "schedule = mlrose_hiive.GeomDecay(init_temp = 1, decay = 0.8, min_temp = 0.0001)\n",
    "sa_best_state, sa_best_fitness, sa = mlrose.simulated_annealing(problem, schedule=schedule, max_attempts=500, max_iters=300, curve=True, random_state=42)\n",
    "sa_time = timeit.timeit(lambda: mlrose.simulated_annealing(problem, schedule=schedule, max_attempts=500, max_iters=300, curve=True, random_state=SEED), number=3)\n",
    "\n",
    "# RHC\n",
    "# print(\"Running Random Hill Climb Experiment\")\n",
    "rhc_best_state, rhc_best_fitness, rhc = mlrose.random_hill_climb(problem, \n",
    "                                                            max_attempts = 100, \n",
    "                                                            max_iters=300, \n",
    "                                                            curve=True, \n",
    "                                                            random_state=SEED,\n",
    "                                                            restarts=0)\n",
    "rhc_time = timeit.timeit(lambda: mlrose.random_hill_climb(problem, \n",
    "                                                            max_attempts = 100, \n",
    "                                                            max_iters=300, \n",
    "                                                            curve=True, \n",
    "                                                            random_state=SEED,\n",
    "                                                            restarts=0), number=3)\n",
    "\n",
    "\n",
    "# MIMIC\n",
    "# print(\"Running MIMIC Algorithm Experiment\")\n",
    "mimic_best_state, mimic_best_fitness, mimic = mlrose.mimic(\n",
    "                                                        problem,\n",
    "                                                        keep_pct = 0.1,\n",
    "                                                        max_attempts = 100, \n",
    "                                                        max_iters = 100,  \n",
    "                                                        curve = True, \n",
    "                                                        random_state = SEED)\n",
    "mimic_time = timeit.timeit(lambda: mlrose.mimic(problem,\n",
    "                                                        keep_pct = 0.1,\n",
    "                                                        max_attempts = 100, \n",
    "                                                        max_iters = 300,  \n",
    "                                                        curve = True, \n",
    "                                                        random_state = SEED), number=3)\n",
    "\n",
    "plt.plot(sa, label='SA')\n",
    "plt.plot(rhc[:500], label='RHC')\n",
    "plt.plot(mimic, label='MIMIC')\n",
    "plt.plot(ga, label='GA')\n",
    "plt.xlabel('Iteration')\n",
    "plt.ylabel('Fitness')\n",
    "plt.legend(loc=\"lower right\")\n",
    "plt.title('Eight Queens Problem Optimization')\n",
    "plt.plot()"
   ]
  },
  {
   "cell_type": "code",
   "execution_count": 69,
   "metadata": {},
   "outputs": [
    {
     "name": "stdout",
     "output_type": "stream",
     "text": [
      "Running time of Eight Queens\n",
      "  Algorithm  Time (s)\n",
      "0       RHC   0.00139\n",
      "1        SA   0.00497\n",
      "2        GA   0.03570\n",
      "3     MIMIC   2.47441\n"
     ]
    }
   ],
   "source": [
    "# time \n",
    "print('Running time of Eight Queens')\n",
    "data = [('RHC', round(rhc_time/3, 5)),\n",
    "        ('SA', round(sa_time/3, 5)),\n",
    "        ('GA', round(ga_time/3, 5)),\n",
    "        ('MIMIC', round(mimic_time/3, 5))]\n",
    "\n",
    "df = pd.DataFrame(data, columns=['Algorithm', 'Time (s)'])\n",
    "print(df)"
   ]
  },
  {
   "cell_type": "markdown",
   "metadata": {},
   "source": [
    "# MaxKColor"
   ]
  },
  {
   "cell_type": "code",
   "execution_count": 34,
   "metadata": {},
   "outputs": [],
   "source": [
    "# Define Fitness function and discrete problem object\n",
    "edges = [(0, 1), (1, 2), (0, 2), (1, 3), (2, 3), (3, 4)]\n",
    "fitness = mlrose.MaxKColor(edges)\n",
    "problem = mlrose.DiscreteOpt(length=8, fitness_fn=fitness, maximize=False, max_val=2)"
   ]
  },
  {
   "cell_type": "markdown",
   "metadata": {},
   "source": [
    "## MaxKClolor GA"
   ]
  },
  {
   "cell_type": "code",
   "execution_count": 35,
   "metadata": {},
   "outputs": [
    {
     "name": "stdout",
     "output_type": "stream",
     "text": [
      "Best parameters for MaxKClolor_GA = (10, 50, 0.1)\n"
     ]
    }
   ],
   "source": [
    "EXPERIMENT_NAME = \"MaxKClolor_GA\"\n",
    "\n",
    "best_param_ga = None\n",
    "best_ga = None\n",
    "\n",
    "for param in itertools.product(*GA_hyperparameters):\n",
    "    max_attempts, pop_size, mutation_prob = param\n",
    "\n",
    "    best_state, best_fitness, fitness_curve = mlrose.genetic_alg(problem,pop_size = pop_size,\n",
    "                                                  mutation_prob = mutation_prob,\n",
    "                                                  max_attempts=max_attempts,\n",
    "                                                  max_iters=500,\n",
    "                                                  curve=True,\n",
    "                                                  random_state=SEED)\n",
    "    if not best_ga:\n",
    "        best_param_ga = param\n",
    "        best_ga = best_fitness\n",
    "    elif best_fitness > best_ga:\n",
    "        best_param_ga = param\n",
    "        best_ga = best_fitness\n",
    "print(\"Best param {} = {}\".format(EXPERIMENT_NAME, str(best_param_ga)))"
   ]
  },
  {
   "cell_type": "markdown",
   "metadata": {},
   "source": [
    "## MaxKClolor SA"
   ]
  },
  {
   "cell_type": "code",
   "execution_count": 38,
   "metadata": {},
   "outputs": [
    {
     "name": "stdout",
     "output_type": "stream",
     "text": [
      "Best parameters for MaxKClolor_SA = (0.1, 0.025, 0.0001)\n"
     ]
    }
   ],
   "source": [
    "# MaxKClolor\n",
    "EXPERIMENT_NAME = \"MaxKClolor_SA\"\n",
    "\n",
    "best_param_sa = None\n",
    "best_sa = None\n",
    "\n",
    "for param in itertools.product(*SA_hyperparameters):\n",
    "\n",
    "    init_temp, decay, min_temp  = param\n",
    "    decay = mlrose_hiive.GeomDecay(init_temp = init_temp, decay = decay, min_temp = min_temp)\n",
    "\n",
    "    best_state, best_fitness, fitness_curve = mlrose.simulated_annealing(\n",
    "                                                    problem, \n",
    "                                                    max_attempts=500, \n",
    "                                                    max_iters=300, \n",
    "                                                    curve=True, \n",
    "                                                    random_state=SEED,\n",
    "                                                    schedule=decay)\n",
    "    if not best_param_sa:\n",
    "        best_param_sa = param\n",
    "        best_sa = best_fitness\n",
    "    elif best_fitness > best_sa:\n",
    "        best_param_sa = param\n",
    "        best_sa = best_fitness\n",
    "print(\"Best param {} = {}\".format(EXPERIMENT_NAME, str(best_param_sa)))"
   ]
  },
  {
   "cell_type": "markdown",
   "metadata": {},
   "source": [
    "## MaxKClolor RHC"
   ]
  },
  {
   "cell_type": "code",
   "execution_count": 39,
   "metadata": {},
   "outputs": [
    {
     "name": "stdout",
     "output_type": "stream",
     "text": [
      "Best RHC parameters for MaxKClolor_RHC = 0\n"
     ]
    }
   ],
   "source": [
    "# MaxKClolor\n",
    "EXPERIMENT_NAME = \"MaxKClolor_RHC\"\n",
    "\n",
    "best_restart_param = None\n",
    "best_restart_fitness_value = None\n",
    "\n",
    "for param in RHC_hyperparameters:\n",
    "    best_state, best_fitness, fitness_curve = mlrose.random_hill_climb(problem, \n",
    "                                                            max_attempts = 500, \n",
    "                                                            max_iters=300, \n",
    "                                                            curve=True, \n",
    "                                                            random_state=SEED,\n",
    "                                                            restarts=param)\n",
    "    if not best_restart_fitness_value:\n",
    "        best_restart_param = param\n",
    "        best_restart_fitness_value = best_fitness\n",
    "    elif best_fitness > best_restart_fitness_value:\n",
    "        best_restart_param = param\n",
    "        best_restart_fitness_value = best_fitness\n",
    "print(\"Best param {} = {}\".format(EXPERIMENT_NAME, str(best_restart_param)))  "
   ]
  },
  {
   "cell_type": "markdown",
   "metadata": {},
   "source": [
    "## MaxKClolor MIMIC"
   ]
  },
  {
   "cell_type": "code",
   "execution_count": 43,
   "metadata": {},
   "outputs": [
    {
     "name": "stdout",
     "output_type": "stream",
     "text": [
      "0.1\n",
      "0.3\n",
      "0.5\n",
      "0.7\n",
      "0.9\n",
      "Best parameters for MaxKClolor_MIMIC = 0.1\n"
     ]
    }
   ],
   "source": [
    "# MaxKClolor\n",
    "EXPERIMENT_NAME = \"MaxKClolor_MIMIC\"\n",
    "\n",
    "best_param_mimic = None\n",
    "best_fitness_mimic = None\n",
    "\n",
    "for param in MIMIC_hyperparameters:\n",
    "    print(param)\n",
    "    best_state, best_fitness, fitness_curve = mlrose.mimic(\n",
    "                                                        problem,\n",
    "                                                        keep_pct = param,\n",
    "                                                        max_attempts = 100, \n",
    "                                                        max_iters = 100,  \n",
    "                                                        curve = True, \n",
    "                                                        random_state = SEED)\n",
    "    if not best_fitness_mimic:\n",
    "        best_param_mimic  = param\n",
    "        best_fitness_mimic = best_fitness\n",
    "    elif best_fitness > best_fitness:\n",
    "        best_param_mimic  = param\n",
    "        best_fitness_mimic = best_fitness\n",
    "print(\"Best param {} = {}\".format(EXPERIMENT_NAME, str(best_param_mimic)))"
   ]
  },
  {
   "cell_type": "code",
   "execution_count": 70,
   "metadata": {
    "scrolled": false
   },
   "outputs": [
    {
     "data": {
      "text/plain": [
       "[]"
      ]
     },
     "execution_count": 70,
     "metadata": {},
     "output_type": "execute_result"
    },
    {
     "data": {
      "image/png": "[encoded data removed]",
      "text/plain": [
       "<Figure size 432x288 with 1 Axes>"
      ]
     },
     "metadata": {
      "needs_background": "light"
     },
     "output_type": "display_data"
    }
   ],
   "source": [
    "# maxKColor figures\n",
    "# best params:\n",
    "# Best parameters for MaxKClolor_GA = (10, 50, 0.1)\n",
    "# Best parameters for MaxKClolor_SA = (0.1, 0.025, 0.0001)\n",
    "# Best RHC parameters for MaxKClolor_RHC = 0\n",
    "# Best parameters for MaxKClolor_MIMIC = 0.1\n",
    "\n",
    "# GA\n",
    "# print(\"Running Genetic Algorithm Experiment\")\n",
    "ga_best_state, ga_best_fitness, ga = mlrose.genetic_alg(problem, max_attempts=10, pop_size=50, mutation_prob=0.1,max_iters=500,curve=True, random_state=SEED)\n",
    "ga_time = timeit.timeit(lambda: mlrose.genetic_alg(problem, max_attempts=10, pop_size=50, mutation_prob=0.1,max_iters=500, curve=True, random_state=SEED), number=3)\n",
    "\n",
    "# SA\n",
    "# print(\"Running Simulated Annealing Experiment\")\n",
    "schedule = mlrose_hiive.GeomDecay(init_temp = 0.1, decay = 0.025, min_temp = 0.0001)\n",
    "sa_best_state, sa_best_fitness, sa = mlrose.simulated_annealing(problem, schedule=schedule, max_attempts=500, max_iters=300, curve=True, random_state=42)\n",
    "sa_time = timeit.timeit(lambda: mlrose.simulated_annealing(problem, schedule=schedule, max_attempts=500, max_iters=300, curve=True, random_state=SEED), number=3)\n",
    "\n",
    "# RHC\n",
    "# print(\"Running Random Hill Climb Experiment\")\n",
    "rhc_best_state, rhc_best_fitness, rhc = mlrose.random_hill_climb(problem, \n",
    "                                                            max_attempts = 100, \n",
    "                                                            max_iters=300, \n",
    "                                                            curve=True, \n",
    "                                                            random_state=SEED,\n",
    "                                                            restarts=0)\n",
    "rhc_time = timeit.timeit(lambda: mlrose.random_hill_climb(problem, \n",
    "                                                            max_attempts = 100, \n",
    "                                                            max_iters=300, \n",
    "                                                            curve=True, \n",
    "                                                            random_state=SEED,\n",
    "                                                            restarts=0), number=3)\n",
    "\n",
    "\n",
    "# MIMIC\n",
    "# print(\"Running MIMIC Algorithm Experiment\")\n",
    "mimic_best_state, mimic_best_fitness, mimic = mlrose.mimic(\n",
    "                                                        problem,\n",
    "                                                        keep_pct = 0.1,\n",
    "                                                        max_attempts = 100, \n",
    "                                                        max_iters = 100,  \n",
    "                                                        curve = True, \n",
    "                                                        random_state = SEED)\n",
    "mimic_time = timeit.timeit(lambda: mlrose.mimic(problem,\n",
    "                                                        keep_pct = 0.1,\n",
    "                                                        max_attempts = 100, \n",
    "                                                        max_iters = 300,  \n",
    "                                                        curve = True, \n",
    "                                                        random_state = SEED), number=3)\n",
    "\n",
    "\n",
    "plt.plot(sa, label='SA')\n",
    "plt.plot(rhc[:500], label='RHC')\n",
    "plt.plot(mimic, label='MIMIC')\n",
    "plt.plot(ga, label='GA')\n",
    "plt.xlabel('Iteration')\n",
    "plt.ylabel('Fitness')\n",
    "plt.legend(loc=\"lower right\")\n",
    "plt.title('MaxKColor Problem Optimization')\n",
    "plt.plot()"
   ]
  },
  {
   "cell_type": "code",
   "execution_count": 71,
   "metadata": {},
   "outputs": [
    {
     "name": "stdout",
     "output_type": "stream",
     "text": [
      "Running time of MaxKcolor\n",
      "  Algorithm  Time (s)\n",
      "0       RHC   0.00106\n",
      "1        SA   0.00487\n",
      "2        GA   0.03501\n",
      "3     MIMIC   2.45349\n"
     ]
    }
   ],
   "source": [
    "# time \n",
    "print('Running time of MaxKcolor')\n",
    "data = [('RHC', round(rhc_time/3, 5)),\n",
    "        ('SA', round(sa_time/3, 5)),\n",
    "        ('GA', round(ga_time/3, 5)),\n",
    "        ('MIMIC', round(mimic_time/3, 5))]\n",
    "\n",
    "df = pd.DataFrame(data, columns=['Algorithm', 'Time (s)'])\n",
    "print(df)"
   ]
  }
 ],
 "metadata": {
  "kernelspec": {
   "display_name": "Python 3",
   "language": "python",
   "name": "python3"
  },
  "language_info": {
   "codemirror_mode": {
    "name": "ipython",
    "version": 3
   },
   "file_extension": ".py",
   "mimetype": "text/x-python",
   "name": "python",
   "nbconvert_exporter": "python",
   "pygments_lexer": "ipython3",
   "version": "3.8.3"
  }
 },
 "nbformat": 4,
 "nbformat_minor": 4
}
